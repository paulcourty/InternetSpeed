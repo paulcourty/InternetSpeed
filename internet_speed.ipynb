{
 "cells": [
  {
   "cell_type": "markdown",
   "metadata": {},
   "source": [
    "# Internet Speed Test"
   ]
  },
  {
   "cell_type": "markdown",
   "metadata": {},
   "source": [
    "Single & Vs Time Internet Speed test\n",
    "- Download\n",
    "- Upload\n",
    "- Latency / Ping"
   ]
  },
  {
   "cell_type": "markdown",
   "metadata": {},
   "source": [
    "----"
   ]
  },
  {
   "cell_type": "markdown",
   "metadata": {},
   "source": [
    "----"
   ]
  },
  {
   "cell_type": "markdown",
   "metadata": {},
   "source": [
    "# Import Lib"
   ]
  },
  {
   "cell_type": "code",
   "execution_count": 1,
   "metadata": {},
   "outputs": [],
   "source": [
    "import speedtest\n",
    "import time\n",
    "import os\n",
    "import numpy as np\n",
    "import matplotlib.pyplot as plt\n",
    "import csv\n",
    "from os import listdir\n",
    "from os.path import isfile, join\n",
    "import ipywidgets as widgets\n",
    "from IPython.display import display"
   ]
  },
  {
   "cell_type": "markdown",
   "metadata": {},
   "source": [
    "----"
   ]
  },
  {
   "cell_type": "markdown",
   "metadata": {},
   "source": [
    "# Paths"
   ]
  },
  {
   "cell_type": "code",
   "execution_count": null,
   "metadata": {},
   "outputs": [],
   "source": [
    "path_test = 'Graphs & Data\\\\'"
   ]
  },
  {
   "cell_type": "markdown",
   "metadata": {},
   "source": [
    "----"
   ]
  },
  {
   "cell_type": "markdown",
   "metadata": {},
   "source": [
    "# Functions"
   ]
  },
  {
   "cell_type": "markdown",
   "metadata": {},
   "source": [
    "Get Speed"
   ]
  },
  {
   "cell_type": "code",
   "execution_count": 2,
   "metadata": {
    "jupyter": {
     "source_hidden": true
    },
    "tags": []
   },
   "outputs": [],
   "source": [
    "# INTERNET SPEED TEST SINGLE\n",
    "\n",
    "def get_speed():\n",
    "    speed = speedtest.Speedtest()\n",
    "    d = speed.download()/1000/1000 # in Mbps\n",
    "    u = speed.upload()/1000/1000\n",
    "    speed.get_servers([])\n",
    "    p = speed.results.ping # in ms\n",
    "    \n",
    "    return d, u, p"
   ]
  },
  {
   "cell_type": "markdown",
   "metadata": {},
   "source": [
    "Get Speed vs Time"
   ]
  },
  {
   "cell_type": "code",
   "execution_count": 3,
   "metadata": {
    "jupyter": {
     "source_hidden": true
    },
    "tags": []
   },
   "outputs": [],
   "source": [
    "# INTERNET SPEED TEST VS TIME\n",
    "\n",
    "def get_speed_vs_time():\n",
    "    \n",
    "    print('\\nInternet Speed Test Vs Time\\n')\n",
    "\n",
    "    name_test = input('   File name:')\n",
    "    test_mins = int(input('   How long do want to test for [mins] ?'))\n",
    "    print('\\n\\nChecking Internet Speed ... ')\n",
    "\n",
    "    d_speeds = []\n",
    "    u_speeds = []\n",
    "    p_times = []\n",
    "    \n",
    "    # Widget: Progress Bar\n",
    "    prog = widgets.FloatProgress(min = 0, max = test_mins, bar_style = 'info')\n",
    "    prog.layout.margin = '24px'\n",
    "    display(prog)\n",
    "\n",
    "    for mins in range(test_mins):\n",
    "        start = time.time()\n",
    "        d, u, p = get_speed()\n",
    "        end = time.time()\n",
    "        test_time = end - start\n",
    "\n",
    "        d_speeds.append(d)\n",
    "        u_speeds.append(u)\n",
    "        p_times.append(p)\n",
    "        \n",
    "        # Update Progress Bar\n",
    "        prog.value += 0.5\n",
    "        time.sleep(60 - test_time)\n",
    "        prog.value += 0.5\n",
    "        \n",
    "    print('\\n')\n",
    "    \n",
    "    # Save Data\n",
    "    path_data_internet_speed = path_test + name_test + '.csv'\n",
    "\n",
    "    data_internet_speed = np.concatenate((d_speeds, u_speeds, p_times), axis=0).reshape((3, -1))\n",
    "    np.savetxt(path_data_internet_speed, data_internet_speed, delimiter=',')"
   ]
  },
  {
   "cell_type": "markdown",
   "metadata": {},
   "source": [
    "Plot Speed vs Time"
   ]
  },
  {
   "cell_type": "code",
   "execution_count": 4,
   "metadata": {
    "jupyter": {
     "source_hidden": true
    },
    "tags": []
   },
   "outputs": [],
   "source": [
    "# PLOT INTERNET SPEED TEST\n",
    "\n",
    "def plot_speed_vs_time():\n",
    "    # Display saved files\n",
    "    saved_internet_speeds = [f[:-4] for f in listdir(path_test) if isfile(join(path_test, f)) and f.endswith('.csv')] # List existing files\n",
    "    print('\\nInternet Speed | Existing data\\n')\n",
    "    for i in saved_internet_speeds:\n",
    "        print('-', i)\n",
    "\n",
    "    # Paths\n",
    "    name_test = input('\\nFile name:')\n",
    "    path_test_data = path_test + name_test + '.csv'\n",
    "    path_test_graph = path_test + name_test + '.png'\n",
    "\n",
    "    # Variables\n",
    "    data_internet_speed = np.genfromtxt(path_test_data, delimiter=',')\n",
    "    test_mins = data_internet_speed.shape[1]\n",
    "    t = range(1, test_mins+1)\n",
    "\n",
    "    # Plots\n",
    "    fig, axs = plt.subplots(1, 2, figsize = (24, 6))\n",
    "\n",
    "    axs[0].plot(t, data_internet_speed[0, :], label = 'Download | Mean: ' + str(np.round(np.mean(data_internet_speed[0, :]), 2)) + ' Mbps')\n",
    "    axs[0].plot(t, data_internet_speed[1, :], label = 'Upload | Mean: ' + str(np.round(np.mean(data_internet_speed[1, :]), 2)) + ' Mbps')\n",
    "    axs[0].hlines(np.mean(data_internet_speed[0, :]), 1, len(data_internet_speed[0, :]), colors = 'red', linestyles = 'dotted')\n",
    "    axs[0].hlines(np.mean(data_internet_speed[1, :]), 1, len(data_internet_speed[1, :]), colors = 'red', linestyles = 'dotted')\n",
    "    axs[0].set_title('\\nInternet Download & Upload Speed Vs Time | ' + str(test_mins) + ' mins\\n')\n",
    "    axs[0].set_xlabel('Time [min]')\n",
    "    axs[0].set_ylabel('Speed [Mbps]')\n",
    "    axs[0].set_ylim([0 , np.max(data_internet_speed[:2, :]) + 0.5 * (np.max(data_internet_speed[:2, :]) - np.min(data_internet_speed[:2, :]))])\n",
    "    axs[0].legend()\n",
    "\n",
    "    axs[1].plot(t, data_internet_speed[2, :], label = 'Ping | Mean: ' + str(np.round(np.mean(data_internet_speed[2, :]), 2)) + ' ms')\n",
    "    axs[1].hlines(np.mean(data_internet_speed[2, :]), 1, len(data_internet_speed[2, :]), colors = 'red', linestyles = 'dotted')\n",
    "    axs[1].set_title('Internet Latency / Ping Vs Time | ' + str(test_mins) + ' mins\\n')\n",
    "    axs[1].set_xlabel('Time [min]')\n",
    "    axs[1].set_ylabel('Ping Time [ms]')\n",
    "    axs[1].set_ylim([np.min(data_internet_speed[2, :]) - 2 * (np.max(data_internet_speed[2, :]) - np.min(data_internet_speed[2, :])), np.max(data_internet_speed[2, :]) + 2 * (np.max(data_internet_speed[2, :]) - np.min(data_internet_speed[2, :]))])\n",
    "    axs[1].legend()\n",
    "\n",
    "    # Save Data & Graph\n",
    "    plt.savefig(path_test_graph)\n",
    "\n",
    "    plt.subplots_adjust(left=None, bottom=None, right=None, top=None, wspace=None, hspace=None)\n",
    "    plt.show()"
   ]
  },
  {
   "cell_type": "markdown",
   "metadata": {},
   "source": [
    "----"
   ]
  },
  {
   "cell_type": "markdown",
   "metadata": {},
   "source": [
    "----"
   ]
  },
  {
   "cell_type": "markdown",
   "metadata": {},
   "source": [
    "# Test | Single"
   ]
  },
  {
   "cell_type": "code",
   "execution_count": 11,
   "metadata": {},
   "outputs": [
    {
     "name": "stdout",
     "output_type": "stream",
     "text": [
      "\n",
      "Internet Speed Test\n",
      "\n",
      "   Checking speed ...\n",
      "\n",
      "   Download   37.07 Mbps\n",
      "   Upload     9.18 Mbps\n",
      "   Ping       21.793 ms\n",
      "\n"
     ]
    }
   ],
   "source": [
    "# INTERNET SPEED TEST SINGLE\n",
    "\n",
    "print('\\nInternet Speed Test\\n')\n",
    "print('   Checking speed ...\\n')\n",
    "\n",
    "d, u, p = get_speed()\n",
    "\n",
    "print(f\"   Download   {'{:.2f}'.format(d)} Mbps\")\n",
    "print(f\"   Upload     {'{:.2f}'.format(u)} Mbps\")\n",
    "print(f\"   Ping       {p} ms\\n\")"
   ]
  },
  {
   "cell_type": "markdown",
   "metadata": {},
   "source": [
    "----"
   ]
  },
  {
   "cell_type": "markdown",
   "metadata": {},
   "source": [
    "# Test | Vs Time : Get Data"
   ]
  },
  {
   "cell_type": "code",
   "execution_count": 6,
   "metadata": {},
   "outputs": [
    {
     "name": "stdout",
     "output_type": "stream",
     "text": [
      "\n",
      "Internet Speed Test Vs Time\n",
      "\n"
     ]
    },
    {
     "name": "stdin",
     "output_type": "stream",
     "text": [
      "   File name: Wifi Bath\n",
      "   How long do want to test for [mins] ? 30\n"
     ]
    },
    {
     "name": "stdout",
     "output_type": "stream",
     "text": [
      "\n",
      "\n",
      "Checking Internet Speed ... \n"
     ]
    },
    {
     "data": {
      "application/vnd.jupyter.widget-view+json": {
       "model_id": "822e670f1dda4a04939c8dbef8500806",
       "version_major": 2,
       "version_minor": 0
      },
      "text/plain": [
       "FloatProgress(value=0.0, bar_style='info', layout=Layout(margin='24px'), max=30.0)"
      ]
     },
     "metadata": {},
     "output_type": "display_data"
    },
    {
     "name": "stdout",
     "output_type": "stream",
     "text": [
      "\n",
      "\n"
     ]
    }
   ],
   "source": [
    "# INTERNET SPEED VS TIME\n",
    "\n",
    "get_speed_vs_time()"
   ]
  },
  {
   "cell_type": "markdown",
   "metadata": {},
   "source": [
    "# Test | Vs Time : Plot Data"
   ]
  },
  {
   "cell_type": "code",
   "execution_count": 7,
   "metadata": {},
   "outputs": [
    {
     "name": "stdout",
     "output_type": "stream",
     "text": [
      "\n",
      "Internet Speed | Existing data\n",
      "\n",
      "- Wifi Bath\n",
      "- yeu_salon\n"
     ]
    },
    {
     "name": "stdin",
     "output_type": "stream",
     "text": [
      "\n",
      "File name: Wifi Bath\n"
     ]
    },
    {
     "data": {
      "image/png": "[encoded data removed]",
      "text/plain": [
       "<Figure size 1728x432 with 2 Axes>"
      ]
     },
     "metadata": {
      "needs_background": "light"
     },
     "output_type": "display_data"
    }
   ],
   "source": [
    "# PLOT INTERNET SPEED TEST\n",
    "\n",
    "plot_speed_vs_time()"
   ]
  },
  {
   "cell_type": "markdown",
   "metadata": {},
   "source": [
    "---"
   ]
  }
 ],
 "metadata": {
  "kernelspec": {
   "display_name": "Python 3 (ipykernel)",
   "language": "python",
   "name": "python3"
  },
  "language_info": {
   "codemirror_mode": {
    "name": "ipython",
    "version": 3
   },
   "file_extension": ".py",
   "mimetype": "text/x-python",
   "name": "python",
   "nbconvert_exporter": "python",
   "pygments_lexer": "ipython3",
   "version": "3.9.6"
  }
 },
 "nbformat": 4,
 "nbformat_minor": 4
}
